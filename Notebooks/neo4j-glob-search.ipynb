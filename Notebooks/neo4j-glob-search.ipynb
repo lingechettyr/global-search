{
 "cells": [
  {
   "cell_type": "code",
   "execution_count": 9,
   "metadata": {},
   "outputs": [],
   "source": [
    "\n",
    "import csv\n",
    "import msgpack\n",
    "import pandas as pd\n",
    "import numpy as np\n",
    "import time\n",
    "import argparse\n",
    "import difflib\n",
    "import json\n",
    "import pickle\n",
    "from collections import defaultdict\n",
    "from collections import deque\n",
    "from neo4j import GraphDatabase\n",
    "from py2neo import Graph, Node, Relationship, NodeMatch, NodeMatcher\n",
    "import itertools"
   ]
  },
  {
   "cell_type": "code",
   "execution_count": 78,
   "metadata": {},
   "outputs": [],
   "source": [
    "df = pd.read_csv('../data/data_product_202303280833.csv')"
   ]
  },
  {
   "cell_type": "code",
   "execution_count": 91,
   "metadata": {},
   "outputs": [],
   "source": [
    "df['keys'] = \"\""
   ]
  },
  {
   "cell_type": "code",
   "execution_count": 108,
   "metadata": {},
   "outputs": [],
   "source": [
    "df['assetType'] = 'data product'"
   ]
  },
  {
   "cell_type": "code",
   "execution_count": 122,
   "metadata": {},
   "outputs": [
    {
     "data": {
      "text/html": [
       "<div>\n",
       "<style scoped>\n",
       "    .dataframe tbody tr th:only-of-type {\n",
       "        vertical-align: middle;\n",
       "    }\n",
       "\n",
       "    .dataframe tbody tr th {\n",
       "        vertical-align: top;\n",
       "    }\n",
       "\n",
       "    .dataframe thead th {\n",
       "        text-align: right;\n",
       "    }\n",
       "</style>\n",
       "<table border=\"1\" class=\"dataframe\">\n",
       "  <thead>\n",
       "    <tr style=\"text-align: right;\">\n",
       "      <th></th>\n",
       "      <th>data_product_id</th>\n",
       "      <th>name</th>\n",
       "      <th>tags</th>\n",
       "      <th>product_metadata</th>\n",
       "      <th>keys</th>\n",
       "      <th>assetType</th>\n",
       "    </tr>\n",
       "  </thead>\n",
       "  <tbody>\n",
       "    <tr>\n",
       "      <th>0</th>\n",
       "      <td>e73e30222cd0ed412a79a0804ecd38f1</td>\n",
       "      <td>test1</td>\n",
       "      <td>NaN</td>\n",
       "      <td>{\"metadata\":[{\"domain_id\":4,\"fieldName\":\"terri...</td>\n",
       "      <td>{\"fieldNames\": [\"territoryID\", \"region\", \"coun...</td>\n",
       "      <td>data product</td>\n",
       "    </tr>\n",
       "    <tr>\n",
       "      <th>1</th>\n",
       "      <td>7b1d9bce9bffcbb8c62c8fb4b3dea2da</td>\n",
       "      <td>DP1 13_03</td>\n",
       "      <td>[\"TEST\"]</td>\n",
       "      <td>{\"metadata\":[{\"domain_id\":89,\"fieldName\":\"c_cu...</td>\n",
       "      <td>{\"fieldNames\": [\"c_custkey\", \"c_mktsegment\"], ...</td>\n",
       "      <td>data product</td>\n",
       "    </tr>\n",
       "    <tr>\n",
       "      <th>2</th>\n",
       "      <td>a4e19f89bdc9b96d0867713591631dc6</td>\n",
       "      <td>test-dataproduct001</td>\n",
       "      <td>[\"Test\"]</td>\n",
       "      <td>{\"metadata\":[]}</td>\n",
       "      <td>{\"fieldNames\": [], \"businessNames\": [], \"busin...</td>\n",
       "      <td>data product</td>\n",
       "    </tr>\n",
       "    <tr>\n",
       "      <th>3</th>\n",
       "      <td>073afc4d623905096dc093732a050442</td>\n",
       "      <td>test-data-01</td>\n",
       "      <td>[\"Test\", \"NEW\"]</td>\n",
       "      <td>{\"metadata\":[{\"domain_id\":0,\"fieldName\":\"O_ORD...</td>\n",
       "      <td>{\"fieldNames\": [\"O_ORDERSTATUS\", \"O_ORDERKEY\"]...</td>\n",
       "      <td>data product</td>\n",
       "    </tr>\n",
       "    <tr>\n",
       "      <th>4</th>\n",
       "      <td>63456ab82912afd85fa51c13f5fcd8ec</td>\n",
       "      <td>test da</td>\n",
       "      <td>[\"Test\"]</td>\n",
       "      <td>{\"metadata\":[]}</td>\n",
       "      <td>{\"fieldNames\": [], \"businessNames\": [], \"busin...</td>\n",
       "      <td>data product</td>\n",
       "    </tr>\n",
       "  </tbody>\n",
       "</table>\n",
       "</div>"
      ],
      "text/plain": [
       "                    data_product_id                 name             tags  \\\n",
       "0  e73e30222cd0ed412a79a0804ecd38f1                test1              NaN   \n",
       "1  7b1d9bce9bffcbb8c62c8fb4b3dea2da            DP1 13_03         [\"TEST\"]   \n",
       "2  a4e19f89bdc9b96d0867713591631dc6  test-dataproduct001         [\"Test\"]   \n",
       "3  073afc4d623905096dc093732a050442         test-data-01  [\"Test\", \"NEW\"]   \n",
       "4  63456ab82912afd85fa51c13f5fcd8ec              test da         [\"Test\"]   \n",
       "\n",
       "                                    product_metadata  \\\n",
       "0  {\"metadata\":[{\"domain_id\":4,\"fieldName\":\"terri...   \n",
       "1  {\"metadata\":[{\"domain_id\":89,\"fieldName\":\"c_cu...   \n",
       "2                                    {\"metadata\":[]}   \n",
       "3  {\"metadata\":[{\"domain_id\":0,\"fieldName\":\"O_ORD...   \n",
       "4                                    {\"metadata\":[]}   \n",
       "\n",
       "                                                keys     assetType  \n",
       "0  {\"fieldNames\": [\"territoryID\", \"region\", \"coun...  data product  \n",
       "1  {\"fieldNames\": [\"c_custkey\", \"c_mktsegment\"], ...  data product  \n",
       "2  {\"fieldNames\": [], \"businessNames\": [], \"busin...  data product  \n",
       "3  {\"fieldNames\": [\"O_ORDERSTATUS\", \"O_ORDERKEY\"]...  data product  \n",
       "4  {\"fieldNames\": [], \"businessNames\": [], \"busin...  data product  "
      ]
     },
     "execution_count": 122,
     "metadata": {},
     "output_type": "execute_result"
    }
   ],
   "source": [
    "df.head()"
   ]
  },
  {
   "cell_type": "code",
   "execution_count": 81,
   "metadata": {},
   "outputs": [],
   "source": [
    "df.loc[0, 'keys'] = json.dumps({\"test\": [4, 5, 6], \"next\": [6, 8, 9]})"
   ]
  },
  {
   "cell_type": "code",
   "execution_count": 123,
   "metadata": {},
   "outputs": [
    {
     "data": {
      "text/plain": [
       "{'test': [4, 5, 6],\n",
       " 'next': [6, 8, 9],\n",
       " 'keys': {'new': [1, 2, 3], 'again': [4, 5, 6]}}"
      ]
     },
     "execution_count": 123,
     "metadata": {},
     "output_type": "execute_result"
    }
   ],
   "source": [
    "x1 = json.dumps({\"test\": [4, 5, 6], \"next\": [6, 8, 9], \"keys\" : {\"new\": [1, 2, 3], \"again\": [4, 5, 6]}})\n",
    "y1 = json.loads(x1)\n",
    "y1"
   ]
  },
  {
   "cell_type": "code",
   "execution_count": 113,
   "metadata": {},
   "outputs": [],
   "source": [
    "x = str(df.loc[0, 'keys'])\n",
    "y = json.loads(x)"
   ]
  },
  {
   "cell_type": "code",
   "execution_count": 172,
   "metadata": {},
   "outputs": [
    {
     "data": {
      "text/plain": [
       "{'fieldNames': ['territoryID', 'region', 'country'],\n",
       " 'businessNames': ['territoryID', 'region', 'country'],\n",
       " 'businessDescriptions': ['territoryID', 'region', 'country']}"
      ]
     },
     "execution_count": 172,
     "metadata": {},
     "output_type": "execute_result"
    }
   ],
   "source": [
    "y"
   ]
  },
  {
   "cell_type": "code",
   "execution_count": 18,
   "metadata": {},
   "outputs": [],
   "source": [
    "testRow = json.loads(df['product_metadata'][0])"
   ]
  },
  {
   "cell_type": "code",
   "execution_count": 37,
   "metadata": {},
   "outputs": [
    {
     "data": {
      "text/plain": [
       "{'domain_id': 5,\n",
       " 'fieldName': 'country',\n",
       " 'businessName': 'country',\n",
       " 'businessDescription': 'country',\n",
       " 'dataType': 'string',\n",
       " 'schema': 'northwind',\n",
       " 'table': 'employees',\n",
       " 'id': 3,\n",
       " 'recommendedSensitivity': 'public',\n",
       " 'dataDomain': 'Coordinates',\n",
       " 'recomendedSensitivity': 'public'}"
      ]
     },
     "execution_count": 37,
     "metadata": {},
     "output_type": "execute_result"
    }
   ],
   "source": [
    "testRow['metadata'][2]"
   ]
  },
  {
   "cell_type": "code",
   "execution_count": null,
   "metadata": {},
   "outputs": [],
   "source": []
  },
  {
   "cell_type": "code",
   "execution_count": 42,
   "metadata": {},
   "outputs": [],
   "source": [
    "def get_rows_inner(df):\n",
    "    rows = [json.loads(row) for row in df['product_metadata']]\n",
    "    return rows\n",
    "\n",
    "def extract_metadata_inner(df):\n",
    "    rows = get_rows_inner(df)\n",
    "    fieldNames, businessNames, businessDescriptions = [], [], []\n",
    "    for row in rows:\n",
    "        innerField, innerName, innerDesc = [], [], []\n",
    "        for idx in row['metadata']:\n",
    "            innerField.append(idx['fieldName'])\n",
    "            innerName.append(idx['businessName'])\n",
    "            innerDesc.append(idx['businessDescription'])\n",
    "        fieldNames.append(innerField)\n",
    "        businessNames.append(innerName)\n",
    "        businessDescriptions.append(innerDesc)\n",
    "    return fieldNames, businessNames, businessDescriptions\n",
    "\n",
    "def add_cols_inner(df):\n",
    "    fieldNames, businessNames, businessDescriptions = extract_metadata_inner(df)\n",
    "    df = df.assign(fieldNames=fieldNames, businessNames=businessNames, businessDescriptions=businessDescriptions)\n",
    "    return df"
   ]
  },
  {
   "cell_type": "code",
   "execution_count": 90,
   "metadata": {},
   "outputs": [],
   "source": [
    "def extract_metadata_inner_neo(df):\n",
    "    rows = get_rows_inner(df)\n",
    "    fieldNames, businessNames, businessDescriptions = [], [], []\n",
    "    rowCnt = 0\n",
    "    for row in rows:\n",
    "        innerField, innerName, innerDesc = [], [], []\n",
    "        for idx in row['metadata']:\n",
    "            innerField.append(idx['fieldName'])\n",
    "            innerName.append(idx['businessName'])\n",
    "            innerDesc.append(idx['businessDescription'])\n",
    "        keys = json.dumps({\"fieldNames\": innerField, \"businessNames\": innerName, \"businessDescriptions\": innerDesc})\n",
    "        df.loc[rowCnt, 'keys'] = keys\n",
    "        rowCnt += 1"
   ]
  },
  {
   "cell_type": "code",
   "execution_count": 94,
   "metadata": {},
   "outputs": [],
   "source": [
    "extract_metadata_inner_neo(df)"
   ]
  },
  {
   "cell_type": "code",
   "execution_count": 124,
   "metadata": {},
   "outputs": [
    {
     "data": {
      "text/html": [
       "<div>\n",
       "<style scoped>\n",
       "    .dataframe tbody tr th:only-of-type {\n",
       "        vertical-align: middle;\n",
       "    }\n",
       "\n",
       "    .dataframe tbody tr th {\n",
       "        vertical-align: top;\n",
       "    }\n",
       "\n",
       "    .dataframe thead th {\n",
       "        text-align: right;\n",
       "    }\n",
       "</style>\n",
       "<table border=\"1\" class=\"dataframe\">\n",
       "  <thead>\n",
       "    <tr style=\"text-align: right;\">\n",
       "      <th></th>\n",
       "      <th>data_product_id</th>\n",
       "      <th>name</th>\n",
       "      <th>tags</th>\n",
       "      <th>product_metadata</th>\n",
       "      <th>keys</th>\n",
       "      <th>assetType</th>\n",
       "    </tr>\n",
       "  </thead>\n",
       "  <tbody>\n",
       "    <tr>\n",
       "      <th>0</th>\n",
       "      <td>e73e30222cd0ed412a79a0804ecd38f1</td>\n",
       "      <td>test1</td>\n",
       "      <td>NaN</td>\n",
       "      <td>{\"metadata\":[{\"domain_id\":4,\"fieldName\":\"terri...</td>\n",
       "      <td>{\"fieldNames\": [\"territoryID\", \"region\", \"coun...</td>\n",
       "      <td>data product</td>\n",
       "    </tr>\n",
       "    <tr>\n",
       "      <th>1</th>\n",
       "      <td>7b1d9bce9bffcbb8c62c8fb4b3dea2da</td>\n",
       "      <td>DP1 13_03</td>\n",
       "      <td>[\"TEST\"]</td>\n",
       "      <td>{\"metadata\":[{\"domain_id\":89,\"fieldName\":\"c_cu...</td>\n",
       "      <td>{\"fieldNames\": [\"c_custkey\", \"c_mktsegment\"], ...</td>\n",
       "      <td>data product</td>\n",
       "    </tr>\n",
       "    <tr>\n",
       "      <th>2</th>\n",
       "      <td>a4e19f89bdc9b96d0867713591631dc6</td>\n",
       "      <td>test-dataproduct001</td>\n",
       "      <td>[\"Test\"]</td>\n",
       "      <td>{\"metadata\":[]}</td>\n",
       "      <td>{\"fieldNames\": [], \"businessNames\": [], \"busin...</td>\n",
       "      <td>data product</td>\n",
       "    </tr>\n",
       "    <tr>\n",
       "      <th>3</th>\n",
       "      <td>073afc4d623905096dc093732a050442</td>\n",
       "      <td>test-data-01</td>\n",
       "      <td>[\"Test\", \"NEW\"]</td>\n",
       "      <td>{\"metadata\":[{\"domain_id\":0,\"fieldName\":\"O_ORD...</td>\n",
       "      <td>{\"fieldNames\": [\"O_ORDERSTATUS\", \"O_ORDERKEY\"]...</td>\n",
       "      <td>data product</td>\n",
       "    </tr>\n",
       "    <tr>\n",
       "      <th>4</th>\n",
       "      <td>63456ab82912afd85fa51c13f5fcd8ec</td>\n",
       "      <td>test da</td>\n",
       "      <td>[\"Test\"]</td>\n",
       "      <td>{\"metadata\":[]}</td>\n",
       "      <td>{\"fieldNames\": [], \"businessNames\": [], \"busin...</td>\n",
       "      <td>data product</td>\n",
       "    </tr>\n",
       "  </tbody>\n",
       "</table>\n",
       "</div>"
      ],
      "text/plain": [
       "                    data_product_id                 name             tags  \\\n",
       "0  e73e30222cd0ed412a79a0804ecd38f1                test1              NaN   \n",
       "1  7b1d9bce9bffcbb8c62c8fb4b3dea2da            DP1 13_03         [\"TEST\"]   \n",
       "2  a4e19f89bdc9b96d0867713591631dc6  test-dataproduct001         [\"Test\"]   \n",
       "3  073afc4d623905096dc093732a050442         test-data-01  [\"Test\", \"NEW\"]   \n",
       "4  63456ab82912afd85fa51c13f5fcd8ec              test da         [\"Test\"]   \n",
       "\n",
       "                                    product_metadata  \\\n",
       "0  {\"metadata\":[{\"domain_id\":4,\"fieldName\":\"terri...   \n",
       "1  {\"metadata\":[{\"domain_id\":89,\"fieldName\":\"c_cu...   \n",
       "2                                    {\"metadata\":[]}   \n",
       "3  {\"metadata\":[{\"domain_id\":0,\"fieldName\":\"O_ORD...   \n",
       "4                                    {\"metadata\":[]}   \n",
       "\n",
       "                                                keys     assetType  \n",
       "0  {\"fieldNames\": [\"territoryID\", \"region\", \"coun...  data product  \n",
       "1  {\"fieldNames\": [\"c_custkey\", \"c_mktsegment\"], ...  data product  \n",
       "2  {\"fieldNames\": [], \"businessNames\": [], \"busin...  data product  \n",
       "3  {\"fieldNames\": [\"O_ORDERSTATUS\", \"O_ORDERKEY\"]...  data product  \n",
       "4  {\"fieldNames\": [], \"businessNames\": [], \"busin...  data product  "
      ]
     },
     "execution_count": 124,
     "metadata": {},
     "output_type": "execute_result"
    }
   ],
   "source": [
    "df.head()"
   ]
  },
  {
   "cell_type": "code",
   "execution_count": 125,
   "metadata": {},
   "outputs": [
    {
     "data": {
      "text/plain": [
       "'{\"fieldNames\": [\"territoryID\", \"region\", \"country\"], \"businessNames\": [\"territoryID\", \"region\", \"country\"], \"businessDescriptions\": [\"territoryID\", \"region\", \"country\"]}'"
      ]
     },
     "execution_count": 125,
     "metadata": {},
     "output_type": "execute_result"
    }
   ],
   "source": [
    "df.iloc[0]['keys']"
   ]
  },
  {
   "cell_type": "code",
   "execution_count": 126,
   "metadata": {},
   "outputs": [],
   "source": [
    "uri = \"bolt://localhost:7687\"\n",
    "username = \"neo4j\"\n",
    "password = \"password\""
   ]
  },
  {
   "cell_type": "code",
   "execution_count": 127,
   "metadata": {},
   "outputs": [],
   "source": [
    "graph = Graph(uri, auth=(username, password))"
   ]
  },
  {
   "cell_type": "code",
   "execution_count": 129,
   "metadata": {},
   "outputs": [],
   "source": [
    "def create_nodes_neo(df, graph):\n",
    "    root_node = Node(\"global_search\", id=-1)\n",
    "    existing_node = graph.nodes.match(\"global_search\", id=-1).first()\n",
    "    if existing_node:\n",
    "        root_node = existing_node\n",
    "    else:\n",
    "        graph.create(root_node)\n",
    "\n",
    "    for index, row in df.iterrows():\n",
    "        # create node\n",
    "        node_props = {\n",
    "            \"id\": row[\"data_product_id\"],\n",
    "            \"name\": row[\"name\"],\n",
    "            \"assetType\": row['assetType'],\n",
    "            \"keys\": row[\"keys\"]\n",
    "        }\n",
    "        node = Node(\"global_search\", **node_props)\n",
    "        graph.create(node)\n",
    "        rel = Relationship(root_node, \"HAS\", node)\n",
    "        graph.create(rel)"
   ]
  },
  {
   "cell_type": "code",
   "execution_count": 130,
   "metadata": {},
   "outputs": [],
   "source": [
    "create_nodes_neo(df, graph)"
   ]
  },
  {
   "cell_type": "code",
   "execution_count": 161,
   "metadata": {},
   "outputs": [],
   "source": [
    "def insert_node(object, graph):\n",
    "    extracted = json.loads(object)\n",
    "    root_node = Node(\"global_search\", id=-1)\n",
    "\n",
    "    existing_root = graph.nodes.match(\"global_search\", id=-1).first()\n",
    "    if existing_root:\n",
    "        root_node = existing_root\n",
    "    else:\n",
    "        graph.create(root_node)\n",
    "\n",
    "    node_props = {\n",
    "        \"id\": extracted['id'],\n",
    "        'name': extracted['name'],\n",
    "        'assetType': extracted['assetType'],\n",
    "        'keys': str(extracted['keys'])\n",
    "    }\n",
    "\n",
    "    node = Node(\"global_search\", **node_props)\n",
    "\n",
    "    existing_node = graph.nodes.match(\"global_search\", id=extracted['id'], assetType=extracted['assetType']).first()\n",
    "    if existing_node:\n",
    "        existing_node.update(node_props)\n",
    "        graph.push(existing_node)\n",
    "        return {\"EXISTS\": f\"updated node with id {extracted['id']} and asset type {extracted['assetType']}\"}\n",
    "    else:\n",
    "        graph.create(node)\n",
    "        rel = Relationship(root_node, \"HAS\", node)\n",
    "        graph.create(rel)\n",
    "        return {\"NEW NODE\": f\"inserted node with id {extracted['id']} and asset type {extracted['assetType']}\"}"
   ]
  },
  {
   "cell_type": "code",
   "execution_count": 176,
   "metadata": {},
   "outputs": [],
   "source": [
    "test = json.dumps({\"id\": \"0\", \"name\": \"RAKESH_N\", \"assetType\": \"TEST\", \"keys\" : {\"first\": [\"1\", \"2\", \"3\"], \"second\": [\"4\", \"5\", \"6\"]}})\n",
    "newTest = json.dumps({\"id\": \"0\", \"name\": \"CHANGE_RAKESH\", \"assetType\": \"TEST\", \"keys\" : {\"newFirst\": [\"2\", \"3\", \"4\"], \"newSecond\": [\"5\", \"6\", \"7\"]}})"
   ]
  },
  {
   "cell_type": "code",
   "execution_count": 185,
   "metadata": {},
   "outputs": [
    {
     "data": {
      "text/plain": [
       "{'NEW NODE': 'inserted node with id 0 and asset type TEST'}"
      ]
     },
     "execution_count": 185,
     "metadata": {},
     "output_type": "execute_result"
    }
   ],
   "source": [
    "insert_node(test, graph)"
   ]
  },
  {
   "cell_type": "code",
   "execution_count": 166,
   "metadata": {},
   "outputs": [
    {
     "data": {
      "text/plain": [
       "{'EXISTS': 'updated node with id 0 and asset type TEST'}"
      ]
     },
     "execution_count": 166,
     "metadata": {},
     "output_type": "execute_result"
    }
   ],
   "source": [
    "insert_node(newTest, graph)"
   ]
  },
  {
   "cell_type": "code",
   "execution_count": 163,
   "metadata": {},
   "outputs": [],
   "source": [
    "def delete_node(id, assetType, graph):\n",
    "    node = graph.nodes.match(\"global_search\", id=id, assetType=assetType).first()\n",
    "    if node:\n",
    "        graph.delete(node)\n",
    "        return {\"DELETE\": f\"Deleted node with id {id} and assetType {assetType}\"}\n",
    "    else:\n",
    "        return {\"ERR\": f\"No node with id {id} and assetType {assetType} found\"}"
   ]
  },
  {
   "cell_type": "code",
   "execution_count": 183,
   "metadata": {},
   "outputs": [
    {
     "data": {
      "text/plain": [
       "{'DELETE': 'Deleted node with id 0 and assetType TEST'}"
      ]
     },
     "execution_count": 183,
     "metadata": {},
     "output_type": "execute_result"
    }
   ],
   "source": [
    "delete_node('0', 'TEST', graph)"
   ]
  },
  {
   "cell_type": "code",
   "execution_count": 180,
   "metadata": {},
   "outputs": [],
   "source": [
    "def fuzzy_full_text_search(word, n):\n",
    "    query = \"\"\"\n",
    "        CALL db.index.fulltext.queryNodes(\"globalSearchNeo\", $word, {limit:$n}) YIELD node, score\n",
    "        RETURN node.id, node.name, node.assetType, node.keys, score\n",
    "    \"\"\"\n",
    "    parameters = {\"word\": word + \"~\", \"n\": n}\n",
    "    return graph.run(query, parameters=parameters).data()\n"
   ]
  },
  {
   "cell_type": "code",
   "execution_count": 187,
   "metadata": {},
   "outputs": [
    {
     "data": {
      "text/plain": [
       "[{'node.id': 'c254cd78ea01f51ebaaceba6d738750f',\n",
       "  'node.name': nan,\n",
       "  'node.assetType': 'data product',\n",
       "  'node.keys': '{\"fieldNames\": [\"territoryID\", \"region\", \"country\"], \"businessNames\": [\"territoryID\", \"region\", \"country\"], \"businessDescriptions\": [\"territoryID\", \"region\", \"country\"]}',\n",
       "  'score': 2.615947723388672},\n",
       " {'node.id': 'e73e30222cd0ed412a79a0804ecd38f1',\n",
       "  'node.name': 'testDemo',\n",
       "  'node.assetType': 'data product',\n",
       "  'node.keys': \"{'fieldNames': ['territoryID', 'region', 'country'], 'businessNames': ['territoryID', 'region', 'country'], 'businessDescriptions': ['territoryID', 'region', 'country']}\",\n",
       "  'score': 2.615947723388672},\n",
       " {'node.id': '38db7a16b8415a6afea41e185736b0d1',\n",
       "  'node.name': 'DP 2',\n",
       "  'node.assetType': 'data product',\n",
       "  'node.keys': '{\"fieldNames\": [\"territoryID\", \"region\", \"country\"], \"businessNames\": [\"territoryID\", \"region\", \"country\"], \"businessDescriptions\": [\"territoryID\", \"region\", \"country\"]}',\n",
       "  'score': 2.615947723388672}]"
      ]
     },
     "execution_count": 187,
     "metadata": {},
     "output_type": "execute_result"
    }
   ],
   "source": [
    "fuzzy_full_text_search(\"territory\", 10)"
   ]
  },
  {
   "cell_type": "code",
   "execution_count": 31,
   "metadata": {},
   "outputs": [],
   "source": [
    "def update_description(word, new_description):\n",
    "    query = \"MATCH (n:business_modeler_terms {name: $word}) SET n.description = $new_description\"\n",
    "    graph.run(query, word=word, new_description=new_description)"
   ]
  },
  {
   "cell_type": "code",
   "execution_count": 32,
   "metadata": {},
   "outputs": [],
   "source": [
    "update_description(\"test\", \"TEST NEW DESC\")"
   ]
  },
  {
   "cell_type": "code",
   "execution_count": 29,
   "metadata": {},
   "outputs": [],
   "source": [
    "def insert_node(word, description):\n",
    "    node = Node(\"business_modeler_terms\", name=word, description=description)\n",
    "    graph.create(node)\n",
    "\n",
    "    root_node = graph.nodes.match(\"business_modeler_terms\", name=\"\", description=\"\").first()\n",
    "    relationship = Relationship(root_node, \"HAS\", node)\n",
    "\n",
    "    graph.create(relationship)"
   ]
  },
  {
   "cell_type": "code",
   "execution_count": 76,
   "metadata": {},
   "outputs": [],
   "source": [
    "insert_node(\"CAPTEST\", \"capital\")"
   ]
  }
 ],
 "metadata": {
  "kernelspec": {
   "display_name": "tensorflow",
   "language": "python",
   "name": "python3"
  },
  "language_info": {
   "codemirror_mode": {
    "name": "ipython",
    "version": 3
   },
   "file_extension": ".py",
   "mimetype": "text/x-python",
   "name": "python",
   "nbconvert_exporter": "python",
   "pygments_lexer": "ipython3",
   "version": "3.10.9"
  },
  "orig_nbformat": 4,
  "vscode": {
   "interpreter": {
    "hash": "51fd4c9f61403266accd47e38530b8b1a9027e7d22e7f47b0f817faebb1fe260"
   }
  }
 },
 "nbformat": 4,
 "nbformat_minor": 2
}

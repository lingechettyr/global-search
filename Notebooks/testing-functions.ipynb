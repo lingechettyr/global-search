{
 "cells": [
  {
   "cell_type": "code",
   "execution_count": 1,
   "metadata": {},
   "outputs": [],
   "source": [
    "import pandas as pd\n",
    "import json\n"
   ]
  },
  {
   "cell_type": "code",
   "execution_count": 63,
   "metadata": {},
   "outputs": [],
   "source": [
    "\n",
    "# Create a sample DataFrame\n",
    "data = {'metadata': [\n",
    "    '{\"domain_id\":4,\"fieldName\":\"territoryID\",\"businessName\":\"territoryID\",\"businessDescription\":\"territoryID\",\"dataType\":\"integer\",\"schema\":\"northwind\",\"table\":\"employee_territories\",\"id\":1,\"recommendedSensitivity\":\"public\",\"dataDomain\":\"Address\",\"recomendedSensitivity\":\"public\"}',\n",
    "    '{\"domain_id\":5,\"fieldName\":\"region\",\"businessName\":\"region\",\"businessDescription\":\"region\",\"dataType\":\"string\",\"schema\":\"northwind\",\"table\":\"employees\",\"id\":2,\"recommendedSensitivity\":\"public\",\"dataDomain\":\"Coordinates\",\"recomendedSensitivity\":\"public\"}',\n",
    "    '{\"domain_id\":5,\"fieldName\":\"country\",\"businessName\":\"country\",\"businessDescription\":\"country\",\"dataType\":\"string\",\"schema\":\"northwind\",\"table\":\"employees\",\"id\":3,\"recommendedSensitivity\":\"public\",\"dataDomain\":\"Coordinates\",\"recomendedSensitivity\":\"public\"}'\n",
    "]}\n",
    "df = pd.DataFrame(data)\n"
   ]
  },
  {
   "cell_type": "code",
   "execution_count": 64,
   "metadata": {},
   "outputs": [
    {
     "data": {
      "text/html": [
       "<div>\n",
       "<style scoped>\n",
       "    .dataframe tbody tr th:only-of-type {\n",
       "        vertical-align: middle;\n",
       "    }\n",
       "\n",
       "    .dataframe tbody tr th {\n",
       "        vertical-align: top;\n",
       "    }\n",
       "\n",
       "    .dataframe thead th {\n",
       "        text-align: right;\n",
       "    }\n",
       "</style>\n",
       "<table border=\"1\" class=\"dataframe\">\n",
       "  <thead>\n",
       "    <tr style=\"text-align: right;\">\n",
       "      <th></th>\n",
       "      <th>metadata</th>\n",
       "    </tr>\n",
       "  </thead>\n",
       "  <tbody>\n",
       "    <tr>\n",
       "      <th>0</th>\n",
       "      <td>{\"domain_id\":4,\"fieldName\":\"territoryID\",\"busi...</td>\n",
       "    </tr>\n",
       "    <tr>\n",
       "      <th>1</th>\n",
       "      <td>{\"domain_id\":5,\"fieldName\":\"region\",\"businessN...</td>\n",
       "    </tr>\n",
       "    <tr>\n",
       "      <th>2</th>\n",
       "      <td>{\"domain_id\":5,\"fieldName\":\"country\",\"business...</td>\n",
       "    </tr>\n",
       "  </tbody>\n",
       "</table>\n",
       "</div>"
      ],
      "text/plain": [
       "                                            metadata\n",
       "0  {\"domain_id\":4,\"fieldName\":\"territoryID\",\"busi...\n",
       "1  {\"domain_id\":5,\"fieldName\":\"region\",\"businessN...\n",
       "2  {\"domain_id\":5,\"fieldName\":\"country\",\"business..."
      ]
     },
     "execution_count": 64,
     "metadata": {},
     "output_type": "execute_result"
    }
   ],
   "source": [
    "df.head()"
   ]
  },
  {
   "cell_type": "code",
   "execution_count": 99,
   "metadata": {},
   "outputs": [],
   "source": [
    "def getRows(df):\n",
    "    rows = [json.loads(row) for row in df['metadata']]\n",
    "    return rows"
   ]
  },
  {
   "cell_type": "code",
   "execution_count": 117,
   "metadata": {},
   "outputs": [],
   "source": [
    "def extract_metadata(df):\n",
    "    rows = getRows(df)\n",
    "    fieldNames, businessNames, businessDescriptions = [], [], []\n",
    "    for row in rows:\n",
    "        fieldNames.append(row['fieldName'])\n",
    "        businessNames.append(row['businessName'])\n",
    "        businessDescriptions.append(row['businessDescription'])\n",
    "    return fieldNames, businessNames, businessDescriptions"
   ]
  },
  {
   "cell_type": "code",
   "execution_count": 118,
   "metadata": {},
   "outputs": [],
   "source": [
    "fieldNames, businessNames, businessDescriptions = extract_metadata(df)"
   ]
  },
  {
   "cell_type": "code",
   "execution_count": 120,
   "metadata": {},
   "outputs": [
    {
     "data": {
      "text/plain": [
       "(['territoryID', 'region', 'country'],\n",
       " ['territoryID', 'region', 'country'],\n",
       " ['territoryID', 'region', 'country'])"
      ]
     },
     "execution_count": 120,
     "metadata": {},
     "output_type": "execute_result"
    }
   ],
   "source": [
    "fieldNames, businessNames, businessDescriptions"
   ]
  },
  {
   "cell_type": "code",
   "execution_count": 121,
   "metadata": {},
   "outputs": [],
   "source": [
    "def addCols(df):\n",
    "    fieldNames, businessNames, businessDescriptions = extract_metadata(df)\n",
    "    df = df.assign(fieldNames=fieldNames, businessNames=businessNames, businessDescriptions=businessDescriptions)\n",
    "    return df"
   ]
  },
  {
   "cell_type": "code",
   "execution_count": 122,
   "metadata": {},
   "outputs": [],
   "source": [
    "df = addCols(df)"
   ]
  },
  {
   "cell_type": "code",
   "execution_count": 123,
   "metadata": {},
   "outputs": [
    {
     "data": {
      "text/html": [
       "<div>\n",
       "<style scoped>\n",
       "    .dataframe tbody tr th:only-of-type {\n",
       "        vertical-align: middle;\n",
       "    }\n",
       "\n",
       "    .dataframe tbody tr th {\n",
       "        vertical-align: top;\n",
       "    }\n",
       "\n",
       "    .dataframe thead th {\n",
       "        text-align: right;\n",
       "    }\n",
       "</style>\n",
       "<table border=\"1\" class=\"dataframe\">\n",
       "  <thead>\n",
       "    <tr style=\"text-align: right;\">\n",
       "      <th></th>\n",
       "      <th>metadata</th>\n",
       "      <th>fieldNames</th>\n",
       "      <th>businessNames</th>\n",
       "      <th>businessDescriptions</th>\n",
       "    </tr>\n",
       "  </thead>\n",
       "  <tbody>\n",
       "    <tr>\n",
       "      <th>0</th>\n",
       "      <td>{\"domain_id\":4,\"fieldName\":\"territoryID\",\"busi...</td>\n",
       "      <td>territoryID</td>\n",
       "      <td>territoryID</td>\n",
       "      <td>territoryID</td>\n",
       "    </tr>\n",
       "    <tr>\n",
       "      <th>1</th>\n",
       "      <td>{\"domain_id\":5,\"fieldName\":\"region\",\"businessN...</td>\n",
       "      <td>region</td>\n",
       "      <td>region</td>\n",
       "      <td>region</td>\n",
       "    </tr>\n",
       "    <tr>\n",
       "      <th>2</th>\n",
       "      <td>{\"domain_id\":5,\"fieldName\":\"country\",\"business...</td>\n",
       "      <td>country</td>\n",
       "      <td>country</td>\n",
       "      <td>country</td>\n",
       "    </tr>\n",
       "  </tbody>\n",
       "</table>\n",
       "</div>"
      ],
      "text/plain": [
       "                                            metadata   fieldNames  \\\n",
       "0  {\"domain_id\":4,\"fieldName\":\"territoryID\",\"busi...  territoryID   \n",
       "1  {\"domain_id\":5,\"fieldName\":\"region\",\"businessN...       region   \n",
       "2  {\"domain_id\":5,\"fieldName\":\"country\",\"business...      country   \n",
       "\n",
       "  businessNames businessDescriptions  \n",
       "0   territoryID          territoryID  \n",
       "1        region               region  \n",
       "2       country              country  "
      ]
     },
     "execution_count": 123,
     "metadata": {},
     "output_type": "execute_result"
    }
   ],
   "source": [
    "df.head()"
   ]
  }
 ],
 "metadata": {
  "kernelspec": {
   "display_name": "tensorflow",
   "language": "python",
   "name": "python3"
  },
  "language_info": {
   "codemirror_mode": {
    "name": "ipython",
    "version": 3
   },
   "file_extension": ".py",
   "mimetype": "text/x-python",
   "name": "python",
   "nbconvert_exporter": "python",
   "pygments_lexer": "ipython3",
   "version": "3.10.9"
  },
  "orig_nbformat": 4
 },
 "nbformat": 4,
 "nbformat_minor": 2
}
